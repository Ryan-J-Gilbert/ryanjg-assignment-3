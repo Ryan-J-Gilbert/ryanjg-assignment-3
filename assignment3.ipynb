{
 "cells": [
  {
   "cell_type": "markdown",
   "id": "245217cc",
   "metadata": {},
   "source": [
    "# Assignment: SVD Preprocessing on MNIST with Logistic Regression"
   ]
  },
  {
   "cell_type": "markdown",
   "id": "deffa444",
   "metadata": {},
   "source": [
    "## Instructions:\n",
    "In this assignment, you will apply **Singular Value Decomposition (SVD)** as a preprocessing step to the **MNIST dataset** and train a **logistic regression classifier**. You will compare the model performance and training time when using different levels of SVD for dimensionality reduction.\n",
    "\n",
    "In this assignment, you will need to:\n",
    "1. Load the MNIST dataset and normalize it.\n",
    "2. Perform SVD and reduce the dimensions of the data.\n",
    "3. Train a logistic regression model on the original and SVD-reduced data.\n",
    "4. Measure and compare the training time and accuracy of the model with varying SVD components.\n",
    "5. Plot the results and analyze how SVD impacts the performance and efficiency of the model.\n",
    "\n",
    "***\n",
    "Your tasks include:\n",
    "1. Implement SVD algorithm. You are not allowed to directly use SVD implemented by other packages, but you may use functions in NumPy. (Part 2)\n",
    "2. Explore the accuracy and time performance from different numbers of SVD components. (Part 4)\n",
    "3. Visualize the accuracy, time performance and top 5 singular vectors in the dataset, analyze and explain which number of SVD component looks best to you? (Part 4,5&6) Hint: singular vectors should be reshaped to 28x28 images for visualization.\n",
    "***\n",
    "**Note that you may not import any other function or package.** Let's get started!\n"
   ]
  },
  {
   "cell_type": "markdown",
   "id": "b3e10cb3",
   "metadata": {},
   "source": [
    "## Part 1: Load the MNIST dataset and preprocess the data"
   ]
  },
  {
   "cell_type": "code",
   "execution_count": 31,
   "id": "79f2d907",
   "metadata": {},
   "outputs": [
    {
     "name": "stdout",
     "output_type": "stream",
     "text": [
      "Loading MNIST dataset...\n"
     ]
    }
   ],
   "source": [
    "import numpy as np\n",
    "import matplotlib.pyplot as plt\n",
    "import time\n",
    "from sklearn.linear_model import LogisticRegression\n",
    "from sklearn.model_selection import train_test_split\n",
    "from sklearn.datasets import fetch_openml\n",
    "from sklearn.metrics import accuracy_score, classification_report\n",
    "\n",
    "# Load MNIST dataset\n",
    "print(\"Loading MNIST dataset...\")\n",
    "mnist = fetch_openml('mnist_784', version=1)\n",
    "X = mnist.data\n",
    "y = mnist.target\n",
    "\n",
    "# Normalize the data\n",
    "X = X / 255.0\n",
    "\n",
    "# Split into training and test sets\n",
    "X_train, X_test, y_train, y_test = train_test_split(X, y, test_size=0.2, random_state=42)\n"
   ]
  },
  {
   "cell_type": "markdown",
   "id": "28b8572d",
   "metadata": {},
   "source": [
    "## Part 2: Implement SVD for Dimensionality Reduction"
   ]
  },
  {
   "cell_type": "code",
   "execution_count": 32,
   "id": "b3bd59f3",
   "metadata": {},
   "outputs": [],
   "source": [
    "def apply_svd_custom(X_train, X_test, n_components):\n",
    "    # Step 1: Compute X^T * X (Gram matrix)\n",
    "    X_train_T_X_train = X_train.T @ X_train\n",
    "\n",
    "    # Step 2: Use np.linalg.eigh instead of np.linalg.eig to ensure real eigenvalues (since the matrix is symmetric)\n",
    "    eigvals_V, eigvecs_V = np.linalg.eigh(X_train_T_X_train)\n",
    "\n",
    "    # Step 3: Sort the eigenvectors by the largest eigenvalues\n",
    "    idx = np.argsort(eigvals_V)[::-1]\n",
    "    eigvals_V = eigvals_V[idx]\n",
    "    eigvecs_V = eigvecs_V[:, idx]\n",
    "\n",
    "    # Step 4: Select the top n_components eigenvectors (V matrix)\n",
    "    V = eigvecs_V[:, :n_components]\n",
    "\n",
    "    # Step 5: Compute the singular values as the square roots of the eigenvalues (take only real part)\n",
    "    singular_values = np.sqrt(np.real(eigvals_V[:n_components]))\n",
    "\n",
    "    # Step 6: Compute the U matrix as (X * V) / singular_values\n",
    "    U = (X_train @ V) / singular_values\n",
    "\n",
    "    # Step 7: Project the training and test data onto the selected components\n",
    "    X_train_proj = U @ np.diag(singular_values)\n",
    "    X_test_proj = X_test @ V\n",
    "\n",
    "    return X_train_proj, X_test_proj\n"
   ]
  },
  {
   "cell_type": "markdown",
   "id": "eb2a7a9d",
   "metadata": {},
   "source": [
    "## Part 3: Train Logistic Regression and Measure Performance"
   ]
  },
  {
   "cell_type": "code",
   "execution_count": 33,
   "id": "dbfc0b10",
   "metadata": {},
   "outputs": [],
   "source": [
    "# Function to train logistic regression and track training time\n",
    "def train_logistic_regression(X_train, y_train, X_test, y_test):\n",
    "    model = LogisticRegression(max_iter=1000, solver='saga', random_state=42, multi_class='multinomial')\n",
    "    \n",
    "    # Measure training time\n",
    "    start_time = time.time()\n",
    "    model.fit(X_train, y_train)\n",
    "    training_time = time.time() - start_time\n",
    "    \n",
    "    y_pred = model.predict(X_test)\n",
    "    accuracy = accuracy_score(y_test, y_pred)\n",
    "    \n",
    "    return accuracy, training_time\n"
   ]
  },
  {
   "cell_type": "markdown",
   "id": "2e557a05",
   "metadata": {},
   "source": [
    "## Part 4: Experiment with Different Levels of SVD\n",
    "\n",
    "Now, apply SVD with varying numbers of components and observe how the dimensionality reduction impacts the model's performance. Record both the accuracy and training time for each number of components.\n"
   ]
  },
  {
   "cell_type": "code",
   "execution_count": 34,
   "id": "3a460725",
   "metadata": {},
   "outputs": [
    {
     "name": "stdout",
     "output_type": "stream",
     "text": [
      "Training models with different levels of SVD preprocessing...\n",
      "Applying custom SVD with 1 components...\n",
      "SVD components: 1, Accuracy: 0.1988, Training time: 0.3133 seconds\n",
      "Applying custom SVD with 5 components...\n",
      "SVD components: 5, Accuracy: 0.6659, Training time: 0.4294 seconds\n",
      "Applying custom SVD with 10 components...\n",
      "SVD components: 10, Accuracy: 0.8020, Training time: 0.6756 seconds\n",
      "Applying custom SVD with 20 components...\n",
      "SVD components: 20, Accuracy: 0.8779, Training time: 1.0169 seconds\n",
      "Applying custom SVD with 50 components...\n",
      "SVD components: 50, Accuracy: 0.9085, Training time: 10.2474 seconds\n",
      "Applying custom SVD with 100 components...\n",
      "SVD components: 100, Accuracy: 0.9181, Training time: 39.5641 seconds\n",
      "Applying custom SVD with 200 components...\n",
      "SVD components: 200, Accuracy: 0.9206, Training time: 107.9715 seconds\n"
     ]
    }
   ],
   "source": [
    "svd_components = [1, 5, 10, 20, 50, 100, 200]  # List of SVD components to experiment with\n",
    "\n",
    "# Store the results\n",
    "results = []\n",
    "\n",
    "print(\"Training models with different levels of SVD preprocessing...\")\n",
    "for n_components in svd_components:\n",
    "    print(f\"Applying custom SVD with {n_components} components...\")\n",
    "    \n",
    "    # Apply SVD to the training and test sets\n",
    "    X_train_svd, X_test_svd = apply_svd_custom(X_train, X_test, n_components)\n",
    "    \n",
    "    # Train the logistic regression model and get accuracy and training time\n",
    "    accuracy, training_time = train_logistic_regression(X_train_svd, y_train, X_test_svd, y_test)\n",
    "    \n",
    "    # Store the results\n",
    "    results.append((n_components, accuracy, training_time))\n",
    "        \n",
    "    print(f\"SVD components: {n_components}, Accuracy: {accuracy:.4f}, Training time: {training_time:.4f} seconds\")\n",
    "\n"
   ]
  },
  {
   "cell_type": "code",
   "execution_count": null,
   "id": "c92721e4",
   "metadata": {},
   "outputs": [],
   "source": [
    "# print(f\"Applying custom SVD with {784} components...\")\n",
    "\n",
    "# # Apply SVD to the training and test sets\n",
    "# X_train_svd, X_test_svd = apply_svd_custom(X_train, X_test, 784)\n",
    "\n",
    "# # Train the logistic regression model and get accuracy and training time\n",
    "# accuracy, training_time = train_logistic_regression(X_train_svd, y_train, X_test_svd, y_test)\n",
    "\n",
    "# # Store the results\n",
    "# results.append((784, accuracy, training_time))\n",
    "    \n",
    "# print(f\"SVD components: {784}, Accuracy: {accuracy:.4f}, Training time: {training_time:.4f} seconds\")\n",
    "\n",
    "# 0.9209 accuracy in 10 minutes"
   ]
  },
  {
   "cell_type": "code",
   "execution_count": 36,
   "id": "8a92d452",
   "metadata": {},
   "outputs": [],
   "source": [
    "n_components, accuracies, training_times = zip(*results)"
   ]
  },
  {
   "cell_type": "markdown",
   "id": "ea7aca12",
   "metadata": {},
   "source": [
    "## Part 5: Visualize and Analyze the Results\n",
    "\n",
    "Finally, plot the accuracy, training time as a function of the number of SVD components, and top 5 singular vectors. This will help you understand the trade-off between dimensionality reduction, accuracy, and model training time, and how SVD generally works. Hint: singular vectors should be reshaped to 28x28 images for visualization.\n"
   ]
  },
  {
   "cell_type": "code",
   "execution_count": 37,
   "id": "92ef0497",
   "metadata": {},
   "outputs": [
    {
     "data": {
      "image/png": "[encoded data removed]",
      "text/plain": [
       "<Figure size 1080x504 with 2 Axes>"
      ]
     },
     "metadata": {
      "needs_background": "light"
     },
     "output_type": "display_data"
    }
   ],
   "source": [
    "## Your implementation here...\n",
    "## You may add necessary lines in Part 4 to access data for visualization\n",
    "# plot the accuracy, training time as a function of the number of SVD components, and top 5 singular vectors.\n",
    "# Plot the results\n",
    "fig, ax1 = plt.subplots()\n",
    "# make plot bigger\n",
    "fig.set_size_inches(15, 7)\n",
    "\n",
    "color = 'tab:red'\n",
    "ax1.set_xlabel('SVD Components')\n",
    "ax1.set_ylabel('Accuracy', color=color)\n",
    "ax1.plot(n_components, accuracies, color=color, marker='o')\n",
    "ax1.tick_params(axis='y', labelcolor=color)\n",
    "\n",
    "ax2 = ax1.twinx()\n",
    "color = 'tab:blue'\n",
    "ax2.set_ylabel('Training Time (s)', color=color)\n",
    "ax2.plot(n_components, training_times, color=color, marker='x')\n",
    "\n",
    "fig.tight_layout()\n",
    "plt.show()\n"
   ]
  },
  {
   "cell_type": "code",
   "execution_count": 38,
   "id": "ba7cfcea",
   "metadata": {},
   "outputs": [
    {
     "data": {
      "image/png": "[encoded data removed]",
      "text/plain": [
       "<Figure size 1080x216 with 5 Axes>"
      ]
     },
     "metadata": {
      "needs_background": "light"
     },
     "output_type": "display_data"
    }
   ],
   "source": [
    "# Visualize the accuracy, time performance and top 5 singular vectors in the dataset, analyze and explain which number of SVD component looks best to you? (Part 4,5&6) Hint: singular vectors should be reshaped to 28x28 images for visualization.\n",
    "# Visualize the top 5 singular vectors\n",
    "U, S, Vt = np.linalg.svd(X_train, full_matrices=False)\n",
    "top_sv = Vt[:5]\n",
    "\n",
    "fig, axes = plt.subplots(1, 5, figsize=(15, 3))\n",
    "for i, sv in enumerate(top_sv):\n",
    "    ax = axes[i]\n",
    "    ax.imshow(sv.reshape(28, 28), cmap='gray')\n",
    "    ax.axis('off')\n",
    "    ax.set_title(f\"Singular Vector {i+1}\")\n",
    "\n",
    "plt.show()\n",
    "\n"
   ]
  },
  {
   "cell_type": "markdown",
   "id": "4210569a",
   "metadata": {},
   "source": [
    "## Part 6: Analyze / Conclusion \n",
    "\n",
    "Depending on the use case, it seems like 100 components is a good trade-off between accuracy and training time. The accuracy is close to the original data, and the training time is significantly reduced. The top 5 singular vectors show the most important features of the data, which can be used for visualization or feature extraction. SVD is a powerful technique for dimensionality reduction and can be used to preprocess data for machine learning models effectively."
   ]
  }
 ],
 "metadata": {
  "kernelspec": {
   "display_name": "Python 3",
   "language": "python",
   "name": "python3"
  },
  "language_info": {
   "codemirror_mode": {
    "name": "ipython",
    "version": 3
   },
   "file_extension": ".py",
   "mimetype": "text/x-python",
   "name": "python",
   "nbconvert_exporter": "python",
   "pygments_lexer": "ipython3",
   "version": "3.9.13"
  }
 },
 "nbformat": 4,
 "nbformat_minor": 5
}
